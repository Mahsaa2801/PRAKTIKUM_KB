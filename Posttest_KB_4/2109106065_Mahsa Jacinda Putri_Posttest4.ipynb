{
 "cells": [
  {
   "cell_type": "markdown",
   "id": "692867e6-a241-4b2d-836e-0304df28db61",
   "metadata": {},
   "source": [
    "### Import Package"
   ]
  },
  {
   "cell_type": "code",
   "execution_count": 86,
   "id": "70bad683-313c-4e94-ae07-53b8088c3651",
   "metadata": {},
   "outputs": [],
   "source": [
    "import pandas as pd\n",
    "import numpy as np\n",
    "from sklearn.model_selection import train_test_split\n",
    "from sklearn.preprocessing import MinMaxScaler\n",
    "from sklearn.preprocessing import StandardScaler\n",
    "from sklearn.impute import SimpleImputer\n",
    "from sklearn.preprocessing import OrdinalEncoder\n",
    "from sklearn.preprocessing import OneHotEncoder"
   ]
  },
  {
   "cell_type": "markdown",
   "id": "b65cd06a-3671-4a89-9a37-889394dfdf03",
   "metadata": {},
   "source": [
    "### Import Dataset"
   ]
  },
  {
   "cell_type": "code",
   "execution_count": 79,
   "id": "c7f3cae7-9f9f-4c41-81fb-92c200931fff",
   "metadata": {},
   "outputs": [],
   "source": [
    "df = pd.read_csv('Downloads/master.csv')"
   ]
  },
  {
   "cell_type": "markdown",
   "id": "48ec83e8-47a4-4eb9-a025-93a381427fb2",
   "metadata": {},
   "source": [
    "### Melihat Info Dataset"
   ]
  },
  {
   "cell_type": "code",
   "execution_count": 80,
   "id": "861fe067-3d05-4793-918a-9a90dd148d1c",
   "metadata": {},
   "outputs": [
    {
     "name": "stdout",
     "output_type": "stream",
     "text": [
      "<class 'pandas.core.frame.DataFrame'>\n",
      "RangeIndex: 27820 entries, 0 to 27819\n",
      "Data columns (total 12 columns):\n",
      " #   Column              Non-Null Count  Dtype  \n",
      "---  ------              --------------  -----  \n",
      " 0   country             27820 non-null  object \n",
      " 1   year                27820 non-null  int64  \n",
      " 2   sex                 27820 non-null  object \n",
      " 3   age                 27820 non-null  object \n",
      " 4   suicides_no         27820 non-null  int64  \n",
      " 5   population          27820 non-null  int64  \n",
      " 6   suicides/100k pop   27820 non-null  float64\n",
      " 7   country-year        27820 non-null  object \n",
      " 8   HDI for year        8364 non-null   float64\n",
      " 9    gdp_for_year ($)   27820 non-null  object \n",
      " 10  gdp_per_capita ($)  27820 non-null  int64  \n",
      " 11  generation          27820 non-null  object \n",
      "dtypes: float64(2), int64(4), object(6)\n",
      "memory usage: 2.5+ MB\n"
     ]
    }
   ],
   "source": [
    "df.info()"
   ]
  },
  {
   "cell_type": "markdown",
   "id": "97fcf0d4-45cd-4be3-a80a-db45e49ad16d",
   "metadata": {},
   "source": [
    "### Bagi dataset menjadi training set dan testing set dengan proporsi 70:30"
   ]
  },
  {
   "cell_type": "code",
   "execution_count": 35,
   "id": "c8a7830e-1e37-4f46-a4ea-f083de6c8c2b",
   "metadata": {},
   "outputs": [],
   "source": [
    "X = df.iloc[:,:-1] \n",
    "y = df.iloc[:,-1] "
   ]
  },
  {
   "cell_type": "code",
   "execution_count": 36,
   "id": "9b34a834-ca44-4505-9c05-e00af65309f1",
   "metadata": {},
   "outputs": [],
   "source": [
    "X_train, X_test, y_train, y_test = train_test_split(X, y, test_size=0.3)"
   ]
  },
  {
   "cell_type": "code",
   "execution_count": 37,
   "id": "9202762c-0517-41d3-802a-4cd9361d71d8",
   "metadata": {},
   "outputs": [
    {
     "name": "stdout",
     "output_type": "stream",
     "text": [
      "Jumlah data training : 19474\n",
      " Jumlah label training : 19474\n",
      " Jumlah data testing : 8346\n",
      " Jumlah label testing : 8346\n"
     ]
    }
   ],
   "source": [
    "print(f'Jumlah data training : {len(X_train)}\\n',\n",
    "     f'Jumlah label training : {len(y_train)}\\n',\n",
    "     f'Jumlah data testing : {len(X_test)}\\n',\n",
    "      f'Jumlah label testing : {len(y_test)}',\n",
    "     )"
   ]
  },
  {
   "cell_type": "markdown",
   "id": "3fca678a-d44f-4a8b-a1c3-eb59b04bc51f",
   "metadata": {},
   "source": [
    "### Lakukan standarisasi pada dataset"
   ]
  },
  {
   "cell_type": "markdown",
   "id": "86757816-38f9-4af5-8bc1-be993b8b44f9",
   "metadata": {},
   "source": [
    "#### Standarisasi pada kolom suicides_no"
   ]
  },
  {
   "cell_type": "code",
   "execution_count": 38,
   "id": "7a68b672-64dc-4f7f-8f8c-7402bca03987",
   "metadata": {},
   "outputs": [
    {
     "name": "stdout",
     "output_type": "stream",
     "text": [
      "Kolom Suicide_no sebelum standarisasi\n"
     ]
    },
    {
     "data": {
      "text/html": [
       "<div>\n",
       "<style scoped>\n",
       "    .dataframe tbody tr th:only-of-type {\n",
       "        vertical-align: middle;\n",
       "    }\n",
       "\n",
       "    .dataframe tbody tr th {\n",
       "        vertical-align: top;\n",
       "    }\n",
       "\n",
       "    .dataframe thead th {\n",
       "        text-align: right;\n",
       "    }\n",
       "</style>\n",
       "<table border=\"1\" class=\"dataframe\">\n",
       "  <thead>\n",
       "    <tr style=\"text-align: right;\">\n",
       "      <th></th>\n",
       "      <th>suicides_no</th>\n",
       "    </tr>\n",
       "  </thead>\n",
       "  <tbody>\n",
       "    <tr>\n",
       "      <th>0</th>\n",
       "      <td>21</td>\n",
       "    </tr>\n",
       "    <tr>\n",
       "      <th>1</th>\n",
       "      <td>16</td>\n",
       "    </tr>\n",
       "    <tr>\n",
       "      <th>2</th>\n",
       "      <td>14</td>\n",
       "    </tr>\n",
       "    <tr>\n",
       "      <th>3</th>\n",
       "      <td>1</td>\n",
       "    </tr>\n",
       "    <tr>\n",
       "      <th>4</th>\n",
       "      <td>9</td>\n",
       "    </tr>\n",
       "    <tr>\n",
       "      <th>...</th>\n",
       "      <td>...</td>\n",
       "    </tr>\n",
       "    <tr>\n",
       "      <th>27815</th>\n",
       "      <td>107</td>\n",
       "    </tr>\n",
       "    <tr>\n",
       "      <th>27816</th>\n",
       "      <td>9</td>\n",
       "    </tr>\n",
       "    <tr>\n",
       "      <th>27817</th>\n",
       "      <td>60</td>\n",
       "    </tr>\n",
       "    <tr>\n",
       "      <th>27818</th>\n",
       "      <td>44</td>\n",
       "    </tr>\n",
       "    <tr>\n",
       "      <th>27819</th>\n",
       "      <td>21</td>\n",
       "    </tr>\n",
       "  </tbody>\n",
       "</table>\n",
       "<p>27820 rows × 1 columns</p>\n",
       "</div>"
      ],
      "text/plain": [
       "       suicides_no\n",
       "0               21\n",
       "1               16\n",
       "2               14\n",
       "3                1\n",
       "4                9\n",
       "...            ...\n",
       "27815          107\n",
       "27816            9\n",
       "27817           60\n",
       "27818           44\n",
       "27819           21\n",
       "\n",
       "[27820 rows x 1 columns]"
      ]
     },
     "execution_count": 38,
     "metadata": {},
     "output_type": "execute_result"
    }
   ],
   "source": [
    "print('Kolom Suicide_no sebelum standarisasi')\n",
    "dataset_standarisasi = df.copy()\n",
    "dataset_standarisasi[['suicides_no']]\n"
   ]
  },
  {
   "cell_type": "code",
   "execution_count": 39,
   "id": "df36f893-3477-499f-a2b0-b5d70a3c1315",
   "metadata": {},
   "outputs": [
    {
     "name": "stdout",
     "output_type": "stream",
     "text": [
      "Kolom Suicide_no setelah standarisasi\n"
     ]
    },
    {
     "data": {
      "text/html": [
       "<div>\n",
       "<style scoped>\n",
       "    .dataframe tbody tr th:only-of-type {\n",
       "        vertical-align: middle;\n",
       "    }\n",
       "\n",
       "    .dataframe tbody tr th {\n",
       "        vertical-align: top;\n",
       "    }\n",
       "\n",
       "    .dataframe thead th {\n",
       "        text-align: right;\n",
       "    }\n",
       "</style>\n",
       "<table border=\"1\" class=\"dataframe\">\n",
       "  <thead>\n",
       "    <tr style=\"text-align: right;\">\n",
       "      <th></th>\n",
       "      <th>0</th>\n",
       "    </tr>\n",
       "  </thead>\n",
       "  <tbody>\n",
       "    <tr>\n",
       "      <th>0</th>\n",
       "      <td>-0.245639</td>\n",
       "    </tr>\n",
       "    <tr>\n",
       "      <th>1</th>\n",
       "      <td>-0.251182</td>\n",
       "    </tr>\n",
       "    <tr>\n",
       "      <th>2</th>\n",
       "      <td>-0.253400</td>\n",
       "    </tr>\n",
       "    <tr>\n",
       "      <th>3</th>\n",
       "      <td>-0.267811</td>\n",
       "    </tr>\n",
       "    <tr>\n",
       "      <th>4</th>\n",
       "      <td>-0.258943</td>\n",
       "    </tr>\n",
       "    <tr>\n",
       "      <th>...</th>\n",
       "      <td>...</td>\n",
       "    </tr>\n",
       "    <tr>\n",
       "      <th>27815</th>\n",
       "      <td>-0.150299</td>\n",
       "    </tr>\n",
       "    <tr>\n",
       "      <th>27816</th>\n",
       "      <td>-0.258943</td>\n",
       "    </tr>\n",
       "    <tr>\n",
       "      <th>27817</th>\n",
       "      <td>-0.202404</td>\n",
       "    </tr>\n",
       "    <tr>\n",
       "      <th>27818</th>\n",
       "      <td>-0.220141</td>\n",
       "    </tr>\n",
       "    <tr>\n",
       "      <th>27819</th>\n",
       "      <td>-0.245639</td>\n",
       "    </tr>\n",
       "  </tbody>\n",
       "</table>\n",
       "<p>27820 rows × 1 columns</p>\n",
       "</div>"
      ],
      "text/plain": [
       "              0\n",
       "0     -0.245639\n",
       "1     -0.251182\n",
       "2     -0.253400\n",
       "3     -0.267811\n",
       "4     -0.258943\n",
       "...         ...\n",
       "27815 -0.150299\n",
       "27816 -0.258943\n",
       "27817 -0.202404\n",
       "27818 -0.220141\n",
       "27819 -0.245639\n",
       "\n",
       "[27820 rows x 1 columns]"
      ]
     },
     "execution_count": 39,
     "metadata": {},
     "output_type": "execute_result"
    }
   ],
   "source": [
    "print('Kolom Suicide_no setelah standarisasi')\n",
    "standard_scaler = StandardScaler()\n",
    "data_standard = standard_scaler.fit_transform(dataset_standarisasi[['suicides_no']])\n",
    "result_data_standard = pd.DataFrame(data_standard)\n",
    "result_data_standard"
   ]
  },
  {
   "cell_type": "markdown",
   "id": "2a7e35a4-f141-4a31-ba54-852d78ddcd9d",
   "metadata": {},
   "source": [
    "### Lakukan Data cleaning pada data dengan nilai nul"
   ]
  },
  {
   "cell_type": "code",
   "execution_count": 57,
   "id": "870a4acf-3710-49e6-ba8f-af6d71a3dcaa",
   "metadata": {},
   "outputs": [],
   "source": [
    "ds = df.copy()"
   ]
  },
  {
   "cell_type": "code",
   "execution_count": 58,
   "id": "9197d818-3468-47d8-a1ca-54380c03089c",
   "metadata": {},
   "outputs": [
    {
     "data": {
      "text/html": [
       "<div>\n",
       "<style scoped>\n",
       "    .dataframe tbody tr th:only-of-type {\n",
       "        vertical-align: middle;\n",
       "    }\n",
       "\n",
       "    .dataframe tbody tr th {\n",
       "        vertical-align: top;\n",
       "    }\n",
       "\n",
       "    .dataframe thead th {\n",
       "        text-align: right;\n",
       "    }\n",
       "</style>\n",
       "<table border=\"1\" class=\"dataframe\">\n",
       "  <thead>\n",
       "    <tr style=\"text-align: right;\">\n",
       "      <th></th>\n",
       "      <th>A</th>\n",
       "      <th>B</th>\n",
       "    </tr>\n",
       "  </thead>\n",
       "  <tbody>\n",
       "    <tr>\n",
       "      <th>0</th>\n",
       "      <td>1.0</td>\n",
       "      <td>NaN</td>\n",
       "    </tr>\n",
       "    <tr>\n",
       "      <th>1</th>\n",
       "      <td>2.0</td>\n",
       "      <td>2.0</td>\n",
       "    </tr>\n",
       "    <tr>\n",
       "      <th>2</th>\n",
       "      <td>3.0</td>\n",
       "      <td>3.0</td>\n",
       "    </tr>\n",
       "    <tr>\n",
       "      <th>3</th>\n",
       "      <td>NaN</td>\n",
       "      <td>4.0</td>\n",
       "    </tr>\n",
       "    <tr>\n",
       "      <th>4</th>\n",
       "      <td>5.0</td>\n",
       "      <td>5.0</td>\n",
       "    </tr>\n",
       "  </tbody>\n",
       "</table>\n",
       "</div>"
      ],
      "text/plain": [
       "     A    B\n",
       "0  1.0  NaN\n",
       "1  2.0  2.0\n",
       "2  3.0  3.0\n",
       "3  NaN  4.0\n",
       "4  5.0  5.0"
      ]
     },
     "execution_count": 58,
     "metadata": {},
     "output_type": "execute_result"
    }
   ],
   "source": [
    "ds"
   ]
  },
  {
   "cell_type": "code",
   "execution_count": 70,
   "id": "1a3c2bdc-2a4c-4b89-a937-fda29d39cd09",
   "metadata": {},
   "outputs": [
    {
     "name": "stdout",
     "output_type": "stream",
     "text": [
      "Dataset sebelum di Cleaning\n"
     ]
    },
    {
     "data": {
      "text/plain": [
       "A    0\n",
       "B    1\n",
       "dtype: int64"
      ]
     },
     "execution_count": 70,
     "metadata": {},
     "output_type": "execute_result"
    }
   ],
   "source": [
    "print(\"Dataset sebelum di Cleaning\")\n",
    "ds.isna().sum()"
   ]
  },
  {
   "cell_type": "code",
   "execution_count": 61,
   "id": "43d62bed-8ae8-46f5-8293-0e96de2c2d10",
   "metadata": {},
   "outputs": [
    {
     "data": {
      "text/plain": [
       "A    float64\n",
       "B    float64\n",
       "dtype: object"
      ]
     },
     "execution_count": 61,
     "metadata": {},
     "output_type": "execute_result"
    }
   ],
   "source": [
    "ds.dtypes"
   ]
  },
  {
   "cell_type": "code",
   "execution_count": 65,
   "id": "edca299a-126f-40e9-998e-c7d1181dfedb",
   "metadata": {},
   "outputs": [],
   "source": [
    "mean = SimpleImputer(strategy='mean')"
   ]
  },
  {
   "cell_type": "code",
   "execution_count": 71,
   "id": "881a7c07-9ccf-4905-920d-8bf533e6a720",
   "metadata": {},
   "outputs": [
    {
     "name": "stdout",
     "output_type": "stream",
     "text": [
      "Dataset sebelum di Cleaning\n"
     ]
    },
    {
     "data": {
      "text/plain": [
       "A    0\n",
       "B    1\n",
       "dtype: int64"
      ]
     },
     "execution_count": 71,
     "metadata": {},
     "output_type": "execute_result"
    }
   ],
   "source": [
    "print(\"Dataset sebelum di Cleaning\")\n",
    "ds['A'] = mean.fit_transform(ds[['A']])\n",
    "ds.isna().sum()"
   ]
  },
  {
   "cell_type": "markdown",
   "id": "f2be5d6a-dbf4-45b6-8bca-b860bc6a0efe",
   "metadata": {},
   "source": [
    "### Lakukan Data cleaning pada data dengan nilai duplikat."
   ]
  },
  {
   "cell_type": "code",
   "execution_count": 72,
   "id": "0bea2f81-c9c5-4990-ba0f-3a9e8322bcc8",
   "metadata": {},
   "outputs": [],
   "source": [
    "dp = df.copy()"
   ]
  },
  {
   "cell_type": "code",
   "execution_count": 73,
   "id": "2ed4bc06-7794-4994-b0c3-cf4684ee47eb",
   "metadata": {},
   "outputs": [
    {
     "data": {
      "text/plain": [
       "0"
      ]
     },
     "execution_count": 73,
     "metadata": {},
     "output_type": "execute_result"
    }
   ],
   "source": [
    "dp.duplicated().sum()"
   ]
  },
  {
   "cell_type": "code",
   "execution_count": 74,
   "id": "4efc4f00-08a4-4258-bba2-cfe3a5d70d55",
   "metadata": {},
   "outputs": [
    {
     "data": {
      "text/plain": [
       "A    float64\n",
       "B    float64\n",
       "dtype: object"
      ]
     },
     "execution_count": 74,
     "metadata": {},
     "output_type": "execute_result"
    }
   ],
   "source": [
    "dp = df.copy()\n",
    "dp.dtypes"
   ]
  },
  {
   "cell_type": "markdown",
   "id": "1b1af04d-2575-43f7-a8e0-55221fef7293",
   "metadata": {},
   "source": [
    "### Mengganti tipe data"
   ]
  },
  {
   "cell_type": "code",
   "execution_count": 75,
   "id": "cc2d9eb0-3b35-45f3-9fdc-da59009491b9",
   "metadata": {},
   "outputs": [
    {
     "data": {
      "text/plain": [
       "dtype('float32')"
      ]
     },
     "execution_count": 75,
     "metadata": {},
     "output_type": "execute_result"
    }
   ],
   "source": [
    "dp['B'].astype('float32').dtypes"
   ]
  },
  {
   "cell_type": "markdown",
   "id": "21b9cfc7-fdec-4081-a25d-895a68677b09",
   "metadata": {},
   "source": [
    "### Lakukan one hot encoding pada dataset yang kalian miliki"
   ]
  },
  {
   "cell_type": "code",
   "execution_count": 87,
   "id": "a217dfea-9b5d-4da5-9b79-552240c9c2ad",
   "metadata": {},
   "outputs": [
    {
     "name": "stderr",
     "output_type": "stream",
     "text": [
      "C:\\Users\\USER\\AppData\\Local\\Programs\\Python\\Python310\\lib\\site-packages\\sklearn\\preprocessing\\_encoders.py:975: FutureWarning: `sparse` was renamed to `sparse_output` in version 1.2 and will be removed in 1.4. `sparse_output` is ignored unless you leave `sparse` to its default value.\n",
      "  warnings.warn(\n"
     ]
    },
    {
     "data": {
      "text/html": [
       "<div>\n",
       "<style scoped>\n",
       "    .dataframe tbody tr th:only-of-type {\n",
       "        vertical-align: middle;\n",
       "    }\n",
       "\n",
       "    .dataframe tbody tr th {\n",
       "        vertical-align: top;\n",
       "    }\n",
       "\n",
       "    .dataframe thead th {\n",
       "        text-align: right;\n",
       "    }\n",
       "</style>\n",
       "<table border=\"1\" class=\"dataframe\">\n",
       "  <thead>\n",
       "    <tr style=\"text-align: right;\">\n",
       "      <th></th>\n",
       "      <th>country</th>\n",
       "      <th>year</th>\n",
       "      <th>sex</th>\n",
       "      <th>age</th>\n",
       "      <th>suicides_no</th>\n",
       "      <th>population</th>\n",
       "      <th>suicides/100k pop</th>\n",
       "      <th>country-year</th>\n",
       "      <th>HDI for year</th>\n",
       "      <th>gdp_for_year ($)</th>\n",
       "      <th>gdp_per_capita ($)</th>\n",
       "      <th>generation</th>\n",
       "      <th>female</th>\n",
       "      <th>male</th>\n",
       "    </tr>\n",
       "  </thead>\n",
       "  <tbody>\n",
       "    <tr>\n",
       "      <th>0</th>\n",
       "      <td>Albania</td>\n",
       "      <td>1987</td>\n",
       "      <td>male</td>\n",
       "      <td>15-24 years</td>\n",
       "      <td>21</td>\n",
       "      <td>312900</td>\n",
       "      <td>6.71</td>\n",
       "      <td>Albania1987</td>\n",
       "      <td>NaN</td>\n",
       "      <td>2,156,624,900</td>\n",
       "      <td>796</td>\n",
       "      <td>Generation X</td>\n",
       "      <td>0.0</td>\n",
       "      <td>1.0</td>\n",
       "    </tr>\n",
       "    <tr>\n",
       "      <th>1</th>\n",
       "      <td>Albania</td>\n",
       "      <td>1987</td>\n",
       "      <td>male</td>\n",
       "      <td>35-54 years</td>\n",
       "      <td>16</td>\n",
       "      <td>308000</td>\n",
       "      <td>5.19</td>\n",
       "      <td>Albania1987</td>\n",
       "      <td>NaN</td>\n",
       "      <td>2,156,624,900</td>\n",
       "      <td>796</td>\n",
       "      <td>Silent</td>\n",
       "      <td>0.0</td>\n",
       "      <td>1.0</td>\n",
       "    </tr>\n",
       "    <tr>\n",
       "      <th>2</th>\n",
       "      <td>Albania</td>\n",
       "      <td>1987</td>\n",
       "      <td>female</td>\n",
       "      <td>15-24 years</td>\n",
       "      <td>14</td>\n",
       "      <td>289700</td>\n",
       "      <td>4.83</td>\n",
       "      <td>Albania1987</td>\n",
       "      <td>NaN</td>\n",
       "      <td>2,156,624,900</td>\n",
       "      <td>796</td>\n",
       "      <td>Generation X</td>\n",
       "      <td>1.0</td>\n",
       "      <td>0.0</td>\n",
       "    </tr>\n",
       "    <tr>\n",
       "      <th>3</th>\n",
       "      <td>Albania</td>\n",
       "      <td>1987</td>\n",
       "      <td>male</td>\n",
       "      <td>75+ years</td>\n",
       "      <td>1</td>\n",
       "      <td>21800</td>\n",
       "      <td>4.59</td>\n",
       "      <td>Albania1987</td>\n",
       "      <td>NaN</td>\n",
       "      <td>2,156,624,900</td>\n",
       "      <td>796</td>\n",
       "      <td>G.I. Generation</td>\n",
       "      <td>0.0</td>\n",
       "      <td>1.0</td>\n",
       "    </tr>\n",
       "    <tr>\n",
       "      <th>4</th>\n",
       "      <td>Albania</td>\n",
       "      <td>1987</td>\n",
       "      <td>male</td>\n",
       "      <td>25-34 years</td>\n",
       "      <td>9</td>\n",
       "      <td>274300</td>\n",
       "      <td>3.28</td>\n",
       "      <td>Albania1987</td>\n",
       "      <td>NaN</td>\n",
       "      <td>2,156,624,900</td>\n",
       "      <td>796</td>\n",
       "      <td>Boomers</td>\n",
       "      <td>0.0</td>\n",
       "      <td>1.0</td>\n",
       "    </tr>\n",
       "  </tbody>\n",
       "</table>\n",
       "</div>"
      ],
      "text/plain": [
       "   country  year     sex          age  suicides_no  population  \\\n",
       "0  Albania  1987    male  15-24 years           21      312900   \n",
       "1  Albania  1987    male  35-54 years           16      308000   \n",
       "2  Albania  1987  female  15-24 years           14      289700   \n",
       "3  Albania  1987    male    75+ years            1       21800   \n",
       "4  Albania  1987    male  25-34 years            9      274300   \n",
       "\n",
       "   suicides/100k pop country-year  HDI for year  gdp_for_year ($)   \\\n",
       "0               6.71  Albania1987           NaN      2,156,624,900   \n",
       "1               5.19  Albania1987           NaN      2,156,624,900   \n",
       "2               4.83  Albania1987           NaN      2,156,624,900   \n",
       "3               4.59  Albania1987           NaN      2,156,624,900   \n",
       "4               3.28  Albania1987           NaN      2,156,624,900   \n",
       "\n",
       "   gdp_per_capita ($)       generation  female  male  \n",
       "0                 796     Generation X     0.0   1.0  \n",
       "1                 796           Silent     0.0   1.0  \n",
       "2                 796     Generation X     1.0   0.0  \n",
       "3                 796  G.I. Generation     0.0   1.0  \n",
       "4                 796          Boomers     0.0   1.0  "
      ]
     },
     "execution_count": 87,
     "metadata": {},
     "output_type": "execute_result"
    }
   ],
   "source": [
    "OneHotEncoder = OneHotEncoder(sparse=False)\n",
    "SexEnc = OneHotEncoder.fit_transform(df[[\"sex\"]])\n",
    "SexEnc = pd.DataFrame(SexEnc)\n",
    "df[\"female\"] = SexEnc[0]\n",
    "df[\"male\"] = SexEnc[1]\n",
    "df.head()"
   ]
  },
  {
   "cell_type": "code",
   "execution_count": null,
   "id": "beef107c-49ce-4343-9193-731c7c1a268b",
   "metadata": {},
   "outputs": [],
   "source": []
  }
 ],
 "metadata": {
  "kernelspec": {
   "display_name": "Python 3 (ipykernel)",
   "language": "python",
   "name": "python3"
  },
  "language_info": {
   "codemirror_mode": {
    "name": "ipython",
    "version": 3
   },
   "file_extension": ".py",
   "mimetype": "text/x-python",
   "name": "python",
   "nbconvert_exporter": "python",
   "pygments_lexer": "ipython3",
   "version": "3.10.7"
  }
 },
 "nbformat": 4,
 "nbformat_minor": 5
}
